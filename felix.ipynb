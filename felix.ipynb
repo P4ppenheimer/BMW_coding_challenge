{
 "cells": [
  {
   "cell_type": "code",
   "execution_count": 59,
   "id": "3a5e95a9",
   "metadata": {},
   "outputs": [],
   "source": [
    "statevec_dim = 8\n",
    "random_statevec = np.random.randn(statevec_dim)\n",
    "random_statevec /= np.linalg.norm(random_statevec)\n",
    "\n",
    "n_qubits = np.log2(statevec_dim)\n",
    "\n",
    "@qml.qnode(dev)\n",
    "def math_circuit(state = random_statevec):\n",
    "    qml.QubitStateVector(state, wires = list(range(n_qubits)))\n",
    "    \n",
    "    return qml.probs(wires = list(range(n_qubits)))\n",
    "\n",
    "@qml.qnode(dev)\n",
    "def implemented_circuit(state = random_statevec):\n",
    "    qml.QubitStateVector.decomposition(state, wires = list(range(n_qubits)))\n",
    "    \n",
    "    return qml.probs(wires = list(range(n_qubits)))"
   ]
  },
  {
   "cell_type": "code",
   "execution_count": 40,
   "id": "7d00ab5d",
   "metadata": {},
   "outputs": [],
   "source": [
    "import pennylane as qml\n",
    "from pennylane import numpy as np\n",
    "\n",
    "from torch.autograd.functional import jacobian"
   ]
  },
  {
   "cell_type": "code",
   "execution_count": 41,
   "id": "4981bf79",
   "metadata": {},
   "outputs": [],
   "source": [
    "def cry_cascade(n_qubits, params):\n",
    "    assert len(params) == n_qubits - 1, f\"Need {n_qubits - 1} params\"\n",
    "    for i in range(n_qubits - 1):\n",
    "        qml.CRY(params[i], wires = [i, n_qubits - 1])"
   ]
  },
  {
   "cell_type": "code",
   "execution_count": 42,
   "id": "54e955b1",
   "metadata": {},
   "outputs": [],
   "source": [
    "n_qubits = 4\n",
    "\n",
    "dev = qml.device('default.qubit', wires = n_qubits)\n",
    "\n",
    "def H_layer(nqubits):\n",
    "    \"\"\"Layer of single-qubit Hadamard gates.\n",
    "    \"\"\"\n",
    "    for idx in range(nqubits):\n",
    "        qml.Hadamard(wires=idx)\n",
    "\n",
    "\n",
    "def RY_layer(w):\n",
    "    \"\"\"Layer of parametrized qubit rotations around the y axis.\n",
    "    \"\"\"\n",
    "    for idx, element in enumerate(w):\n",
    "        qml.RY(element, wires=idx)\n",
    "\n",
    "@qml.qnode(dev)\n",
    "def circuit(params , input_vec=None):\n",
    "    \n",
    "    params = np.random.randn(n_qubits - 1)\n",
    "    # Start from state |+> , unbiased w.r.t. |0> and |1>\n",
    "    H_layer(n_qubits)\n",
    "\n",
    "    # Embed features in the quantum node\n",
    "    RY_layer(input_vec)    \n",
    "\n",
    "    cry_cascade(n_qubits = n_qubits, params = params)\n",
    "    \n",
    "    return qml.expval(qml.PauliZ(wires = n_qubits - 1))\n",
    "#     return tuple([qml.expval(qml.PauliZ(idx)) for idx in range(n_qubits)])\n",
    "\n"
   ]
  },
  {
   "cell_type": "code",
   "execution_count": null,
   "id": "0a590dc0",
   "metadata": {},
   "outputs": [],
   "source": []
  },
  {
   "cell_type": "code",
   "execution_count": 43,
   "id": "b089765d",
   "metadata": {},
   "outputs": [
    {
     "name": "stdout",
     "output_type": "stream",
     "text": [
      " 0: ──H──RY(-1.8)───╭C─────────────────────────────────────┤     \n",
      " 1: ──H──RY(0.919)──│────────────╭C────────────────────────┤     \n",
      " 2: ──H──RY(0.78)───│────────────│────────────╭C───────────┤     \n",
      " 3: ──H──RY(2.39)───╰RY(-0.677)──╰RY(-0.367)──╰RY(-0.135)──┤ ⟨Z⟩ \n",
      "\n"
     ]
    }
   ],
   "source": [
    "params = np.random.randn(n_qubits - 1,requires_grad=True)\n",
    "input_vec = np.random.randn(n_qubits )\n",
    "\n",
    "result = circuit(params, input_vec)\n",
    "print(circuit.draw())"
   ]
  },
  {
   "cell_type": "code",
   "execution_count": 44,
   "id": "8fd49264",
   "metadata": {},
   "outputs": [
    {
     "name": "stdout",
     "output_type": "stream",
     "text": [
      "[ 0.19346464 -0.05283473  0.25304361  0.49014148]\n"
     ]
    }
   ],
   "source": [
    "aparams = np.random.randn(n_qubits - 1, requires_grad=True)\n",
    "input_vec = np.random.randn(n_qubits)\n",
    "\n",
    "jac = qml.jacobian(circuit, argnum=1)(params, input_vec)\n",
    "\n",
    "print(jac)"
   ]
  },
  {
   "cell_type": "code",
   "execution_count": 45,
   "id": "2776b099",
   "metadata": {},
   "outputs": [
    {
     "name": "stdout",
     "output_type": "stream",
     "text": [
      "[-0.19988774 -0.03179257 -0.08822609  0.23997154]\n"
     ]
    }
   ],
   "source": [
    "params = np.random.randn(n_qubits - 1, requires_grad=True)\n",
    "input_vec = np.random.randn(n_qubits)\n",
    "\n",
    "grad = qml.grad(circuit, argnum=1)(params, input_vec)\n",
    "\n",
    "print(grad)"
   ]
  },
  {
   "cell_type": "code",
   "execution_count": 46,
   "id": "4db48378",
   "metadata": {},
   "outputs": [],
   "source": [
    "n_qubits = 2\n",
    "@qml.qnode(dev)\n",
    "def circuit(angle, n_qubits = n_qubits):\n",
    "    qml.RY(angle, wires = 0)\n",
    "    qml.CNOT(wires = [0,1])\n",
    "   \n",
    "    return [qml.expval(qml.PauliZ(x)) for x in range(0, n_qubits)]\n"
   ]
  },
  {
   "cell_type": "code",
   "execution_count": 50,
   "id": "15b51f7b",
   "metadata": {},
   "outputs": [
    {
     "name": "stdout",
     "output_type": "stream",
     "text": [
      "[0.8660254 0.8660254]\n",
      " 0: ──RY(0.524)──╭C──┤ ⟨Z⟩ \n",
      " 1: ─────────────╰X──┤ ⟨Z⟩ \n",
      "\n"
     ]
    }
   ],
   "source": [
    "result = circuit(np.pi/6)\n",
    "\n",
    "print(result)\n",
    "print(circuit.draw())"
   ]
  },
  {
   "cell_type": "code",
   "execution_count": 48,
   "id": "f61e3bdb",
   "metadata": {},
   "outputs": [],
   "source": [
    "jac = qml.jacobian(circuit, argnum = 0)(np.pi/6)"
   ]
  },
  {
   "cell_type": "code",
   "execution_count": 49,
   "id": "e7f64cf1",
   "metadata": {},
   "outputs": [
    {
     "data": {
      "text/plain": [
       "array([-0.5, -0.5])"
      ]
     },
     "execution_count": 49,
     "metadata": {},
     "output_type": "execute_result"
    }
   ],
   "source": [
    "jac"
   ]
  },
  {
   "cell_type": "code",
   "execution_count": null,
   "id": "1832694d",
   "metadata": {},
   "outputs": [],
   "source": []
  },
  {
   "cell_type": "code",
   "execution_count": null,
   "id": "2fa0af1a",
   "metadata": {},
   "outputs": [],
   "source": []
  },
  {
   "cell_type": "code",
   "execution_count": null,
   "id": "96b71526",
   "metadata": {},
   "outputs": [],
   "source": []
  },
  {
   "cell_type": "code",
   "execution_count": null,
   "id": "7496b472",
   "metadata": {},
   "outputs": [],
   "source": [
    "import os "
   ]
  },
  {
   "cell_type": "code",
   "execution_count": null,
   "id": "afa6a691",
   "metadata": {},
   "outputs": [],
   "source": [
    "def get_directory_size(directory):\n",
    "    \"\"\"Returns the `directory` size in bytes.\"\"\"\n",
    "    total = 0\n",
    "    try:\n",
    "        # print(\"[+] Getting the size of\", directory)\n",
    "        for entry in os.scandir(directory):\n",
    "            if entry.is_file():\n",
    "                # if it's a file, use stat() function\n",
    "                total += entry.stat().st_size\n",
    "            elif entry.is_dir():\n",
    "                # if it's a directory, recursively call this function\n",
    "                total += get_directory_size(entry.path)\n",
    "    except NotADirectoryError:\n",
    "        # if `directory` isn't a directory, get the file size then\n",
    "        return os.path.getsize(directory)\n",
    "    except PermissionError:\n",
    "        # if for whatever reason we can't open the folder, return 0\n",
    "        return 0\n",
    "    return total\n",
    "\n",
    "def get_size_format(b, factor=1024, suffix=\"B\"):\n",
    "    \"\"\"\n",
    "    Scale bytes to its proper byte format\n",
    "    e.g:\n",
    "        1253656 => '1.20MB'\n",
    "        1253656678 => '1.17GB'\n",
    "    \"\"\"\n",
    "    for unit in [\"\", \"K\", \"M\", \"G\", \"T\", \"P\", \"E\", \"Z\"]:\n",
    "        if b < factor:\n",
    "            return f\"{b:.2f}{unit}{suffix}\"\n",
    "        b /= factor\n",
    "    return f\"{b:.2f}Y{suffix}\""
   ]
  },
  {
   "cell_type": "code",
   "execution_count": 51,
   "id": "718d0449",
   "metadata": {},
   "outputs": [
    {
     "ename": "NameError",
     "evalue": "name 'get_size_format' is not defined",
     "output_type": "error",
     "traceback": [
      "\u001b[0;31m---------------------------------------------------------------------------\u001b[0m",
      "\u001b[0;31mNameError\u001b[0m                                 Traceback (most recent call last)",
      "\u001b[0;32m<ipython-input-51-da948930c87c>\u001b[0m in \u001b[0;36m<module>\u001b[0;34m\u001b[0m\n\u001b[0;32m----> 1\u001b[0;31m \u001b[0mget_size_format\u001b[0m\u001b[0;34m(\u001b[0m\u001b[0mget_directory_size\u001b[0m\u001b[0;34m(\u001b[0m\u001b[0;34m\"./models\"\u001b[0m\u001b[0;34m)\u001b[0m\u001b[0;34m)\u001b[0m\u001b[0;34m\u001b[0m\u001b[0;34m\u001b[0m\u001b[0m\n\u001b[0m",
      "\u001b[0;31mNameError\u001b[0m: name 'get_size_format' is not defined"
     ]
    }
   ],
   "source": [
    "get_size_format(get_directory_size(\"./models\"))"
   ]
  },
  {
   "cell_type": "code",
   "execution_count": null,
   "id": "b9a29d7b",
   "metadata": {},
   "outputs": [],
   "source": []
  }
 ],
 "metadata": {
  "kernelspec": {
   "display_name": "conda_braket",
   "language": "python",
   "name": "conda_braket"
  },
  "language_info": {
   "codemirror_mode": {
    "name": "ipython",
    "version": 3
   },
   "file_extension": ".py",
   "mimetype": "text/x-python",
   "name": "python",
   "nbconvert_exporter": "python",
   "pygments_lexer": "ipython3",
   "version": "3.7.10"
  }
 },
 "nbformat": 4,
 "nbformat_minor": 5
}
